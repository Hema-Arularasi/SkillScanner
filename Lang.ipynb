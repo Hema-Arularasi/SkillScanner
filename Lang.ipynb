{
 "cells": [
  {
   "cell_type": "code",
   "execution_count": 3,
   "id": "90c57085",
   "metadata": {},
   "outputs": [
    {
     "name": "stdout",
     "output_type": "stream",
     "text": [
      "Requirement already satisfied: nltk in c:\\users\\admin\\anaconda3\\lib\\site-packages (3.7)\n",
      "Requirement already satisfied: click in c:\\users\\admin\\anaconda3\\lib\\site-packages (from nltk) (8.1.7)\n",
      "Requirement already satisfied: joblib in c:\\users\\admin\\anaconda3\\lib\\site-packages (from nltk) (1.1.0)\n",
      "Requirement already satisfied: regex>=2021.8.3 in c:\\users\\admin\\anaconda3\\lib\\site-packages (from nltk) (2022.3.15)\n",
      "Requirement already satisfied: tqdm in c:\\users\\admin\\anaconda3\\lib\\site-packages (from nltk) (4.64.0)\n",
      "Requirement already satisfied: colorama in c:\\users\\admin\\appdata\\roaming\\python\\python39\\site-packages (from click->nltk) (0.4.6)\n"
     ]
    }
   ],
   "source": [
    "! pip install nltk"
   ]
  },
  {
   "cell_type": "code",
   "execution_count": 4,
   "id": "da72a593",
   "metadata": {},
   "outputs": [],
   "source": [
    "import nltk"
   ]
  },
  {
   "cell_type": "code",
   "execution_count": 11,
   "id": "1b0e54a0",
   "metadata": {},
   "outputs": [
    {
     "name": "stdout",
     "output_type": "stream",
     "text": [
      "Extracted Skills: ['python', 'communication', 'team', 'collaboration', 'presentation', 'skill', 'c++', 'creation', 'java', 'language', 'bot', 'builder', 'process', 'automation', 'internship', 'process', 'mining', 'celonis', 'nptel', 'python', 'science', 'machine', 'tamil', 'uipath', 'citizen', 'developer', 'rpa', 'developer', 'foundation', 'designer', 'core', 'sololearn', 'html', 'css', 'c', 'excel', 'excel', 'level', 'foundation', 'c', 'python', 'sql', 'structure', 'google', 'proﬁciency', 'proﬁciency']\n"
     ]
    },
    {
     "name": "stderr",
     "output_type": "stream",
     "text": [
      "[nltk_data] Downloading package punkt to\n",
      "[nltk_data]     C:\\Users\\ADMIN\\AppData\\Roaming\\nltk_data...\n",
      "[nltk_data]   Package punkt is already up-to-date!\n"
     ]
    }
   ],
   "source": [
    "import nltk\n",
    "import fitz  # PyMuPDF\n",
    "from nltk.tokenize import word_tokenize\n",
    "from nltk.tag import pos_tag\n",
    "\n",
    "nltk.download('punkt')\n",
    "\n",
    "def extract_skills_from_skills_section(pdf_path):\n",
    "    # Extract text from the PDF\n",
    "    doc = fitz.open(pdf_path)\n",
    "    skills_section_text = ''\n",
    "\n",
    "    # Identify the skills section by checking for variations\n",
    "    section_variations = [\"skills\", \"technical proficiencies\", \"key skills\"]\n",
    "    \n",
    "    for page_num in range(doc.page_count):\n",
    "        page = doc[page_num]\n",
    "        page_text = page.get_text().lower()\n",
    "\n",
    "        # Look for variations in section headings\n",
    "        for section_variation in section_variations:\n",
    "            if section_variation in page_text:\n",
    "                # Try to extract the text below the heading\n",
    "                try:\n",
    "                    skills_section_text += page_text.split(section_variation, 1)[1]\n",
    "                except IndexError:\n",
    "                    pass\n",
    "\n",
    "    # Tokenize the text\n",
    "    tokens = word_tokenize(skills_section_text)\n",
    "    # Part-of-speech tagging\n",
    "    pos_tags = pos_tag(tokens)\n",
    "\n",
    "    # Extract nouns (assumes skills are represented by nouns)\n",
    "    skills = [word.lower() for word, pos in pos_tags if pos == 'NN']\n",
    "\n",
    "    return skills\n",
    "\n",
    "def main():\n",
    "    # Path to the PDF resume\n",
    "    pdf_path = \"C:/Users/ADMIN/Downloads/ARTHI.'s Resume.pdf\"\n",
    "    # Extract skills from the skills section\n",
    "    skills = extract_skills_from_skills_section(pdf_path)\n",
    "    print(\"Extracted Skills:\", skills)\n",
    "\n",
    "if __name__ == \"__main__\":\n",
    "    main()\n"
   ]
  },
  {
   "cell_type": "code",
   "execution_count": 1,
   "id": "0d6a0046",
   "metadata": {},
   "outputs": [
    {
     "name": "stderr",
     "output_type": "stream",
     "text": [
      "[nltk_data] Error loading punkt: <urlopen error [Errno 11001]\n",
      "[nltk_data]     getaddrinfo failed>\n"
     ]
    },
    {
     "name": "stdout",
     "output_type": "stream",
     "text": [
      "Extracted Skills: ['python', 'communication', 'team', 'collaboration', 'presentation', 'skill', 'c++', 'creation', 'java', 'language', 'bot', 'builder', 'process', 'automation', 'internship', 'process', 'mining', 'celonis', 'nptel', 'python', 'science', 'machine', 'tamil', 'uipath', 'citizen', 'developer', 'rpa', 'developer', 'foundation', 'designer', 'core', 'sololearn', 'html', 'css', 'c', 'excel', 'excel', 'level', 'foundation', 'c', 'python', 'sql', 'structure', 'google', 'proﬁciency', 'proﬁciency']\n"
     ]
    }
   ],
   "source": [
    "import nltk\n",
    "import fitz  # PyMuPDF\n",
    "from nltk.tokenize import word_tokenize\n",
    "from nltk.tag import pos_tag\n",
    "\n",
    "nltk.download('punkt')\n",
    "\n",
    "def extract_skills_from_skills_section(pdf_path):\n",
    "    # Extract text from the PDF\n",
    "    doc = fitz.open(pdf_path)\n",
    "    skills_section_text = ''\n",
    "\n",
    "    # Identify the skills section by checking for variations\n",
    "    section_variations = [\"skills\", \"technical proficiencies\", \"key skills\"]\n",
    "    \n",
    "    for page_num in range(doc.page_count):\n",
    "        page = doc[page_num]\n",
    "        page_text = page.get_text().lower()\n",
    "\n",
    "        # Look for variations in section headings\n",
    "        for section_variation in section_variations:\n",
    "            if section_variation in page_text:\n",
    "                # Try to extract the text below the heading\n",
    "                try:\n",
    "                    skills_section_text += page_text.split(section_variation, 1)[1]\n",
    "                except IndexError:\n",
    "                    pass\n",
    "\n",
    "    # Tokenize the text\n",
    "    tokens = word_tokenize(skills_section_text)\n",
    "    # Part-of-speech tagging\n",
    "    pos_tags = pos_tag(tokens)\n",
    "\n",
    "    # Extract nouns (assumes skills are represented by nouns)\n",
    "    skills = [word.lower() for word, pos in pos_tags if pos == 'NN']\n",
    "\n",
    "    return skills\n",
    "\n",
    "def main():\n",
    "    # Path to the PDF resume\n",
    "    pdf_path = \"C:/Users/ADMIN/Downloads/ARTHI.'s Resume.pdf\"\n",
    "    # Extract skills from the skills section\n",
    "    skills = extract_skills_from_skills_section(pdf_path)\n",
    "    print(\"Extracted Skills:\", skills)\n",
    "\n",
    "if __name__ == \"__main__\":\n",
    "    main()\n"
   ]
  },
  {
   "cell_type": "code",
   "execution_count": null,
   "id": "93911c9b",
   "metadata": {},
   "outputs": [],
   "source": []
  }
 ],
 "metadata": {
  "kernelspec": {
   "display_name": "Python 3 (ipykernel)",
   "language": "python",
   "name": "python3"
  },
  "language_info": {
   "codemirror_mode": {
    "name": "ipython",
    "version": 3
   },
   "file_extension": ".py",
   "mimetype": "text/x-python",
   "name": "python",
   "nbconvert_exporter": "python",
   "pygments_lexer": "ipython3",
   "version": "3.9.12"
  }
 },
 "nbformat": 4,
 "nbformat_minor": 5
}
